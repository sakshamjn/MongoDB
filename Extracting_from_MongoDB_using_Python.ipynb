{
  "nbformat": 4,
  "nbformat_minor": 0,
  "metadata": {
    "kernelspec": {
      "display_name": "Python 3",
      "language": "python",
      "name": "python3"
    },
    "language_info": {
      "codemirror_mode": {
        "name": "ipython",
        "version": 3
      },
      "file_extension": ".py",
      "mimetype": "text/x-python",
      "name": "python",
      "nbconvert_exporter": "python",
      "pygments_lexer": "ipython3",
      "version": "3.6.7"
    },
    "colab": {
      "name": "Extracting_from_MongoDB_using_Python.ipynb",
      "provenance": [],
      "include_colab_link": true
    }
  },
  "cells": [
    {
      "cell_type": "markdown",
      "metadata": {
        "id": "view-in-github",
        "colab_type": "text"
      },
      "source": [
        "<a href=\"https://colab.research.google.com/github/sakshamjn/MongoDB/blob/master/Extracting_from_MongoDB_using_Python.ipynb\" target=\"_parent\"><img src=\"https://colab.research.google.com/assets/colab-badge.svg\" alt=\"Open In Colab\"/></a>"
      ]
    },
    {
      "cell_type": "markdown",
      "metadata": {
        "id": "OX3F25H6V2t8",
        "colab_type": "text"
      },
      "source": [
        "## Import the libraries"
      ]
    },
    {
      "cell_type": "code",
      "metadata": {
        "id": "YVXJukytV2t9",
        "colab_type": "code",
        "colab": {}
      },
      "source": [
        "import pymongo\n",
        "from pymongo import MongoClient"
      ],
      "execution_count": 0,
      "outputs": []
    },
    {
      "cell_type": "markdown",
      "metadata": {
        "id": "33VO1PNCV2uF",
        "colab_type": "text"
      },
      "source": [
        "## Establish connection"
      ]
    },
    {
      "cell_type": "code",
      "metadata": {
        "id": "snV14JD2V2uG",
        "colab_type": "code",
        "colab": {}
      },
      "source": [
        "connection = MongoClient('localhost', 27017)\n",
        "db = connection.EmployeeDB"
      ],
      "execution_count": 0,
      "outputs": []
    },
    {
      "cell_type": "markdown",
      "metadata": {
        "id": "n4FVSPiNV2uK",
        "colab_type": "text"
      },
      "source": [
        "## Extract database and collection details"
      ]
    },
    {
      "cell_type": "code",
      "metadata": {
        "id": "crZ_6d1gV2uL",
        "colab_type": "code",
        "colab": {}
      },
      "source": [
        "data = db.employees\n",
        "EmployeeList = data.find()"
      ],
      "execution_count": 0,
      "outputs": []
    },
    {
      "cell_type": "markdown",
      "metadata": {
        "id": "6f8TfTnOV2uO",
        "colab_type": "text"
      },
      "source": [
        "## Print each individual record"
      ]
    },
    {
      "cell_type": "code",
      "metadata": {
        "id": "QmuVzZQDV2uP",
        "colab_type": "code",
        "colab": {}
      },
      "source": [
        "for item in EmployeeList:\n",
        "    print(\"Name: \" + item[\"name\"] + \" \" + \"Dept: \" + item[\"dept\"])"
      ],
      "execution_count": 0,
      "outputs": []
    },
    {
      "cell_type": "markdown",
      "metadata": {
        "id": "JO4G69VrV2uS",
        "colab_type": "text"
      },
      "source": [
        "## Create a dataframe to give structure to the NoSQL data"
      ]
    },
    {
      "cell_type": "code",
      "metadata": {
        "id": "OXGwO4ccV2uT",
        "colab_type": "code",
        "outputId": "812898d7-306d-4725-b0c2-63cc7bc2d388",
        "colab": {}
      },
      "source": [
        "import pandas as pd\n",
        "df = pd.DataFrame(list(data.find()))\n",
        "df"
      ],
      "execution_count": 0,
      "outputs": [
        {
          "output_type": "execute_result",
          "data": {
            "text/html": [
              "<div>\n",
              "<style>\n",
              "    .dataframe thead tr:only-child th {\n",
              "        text-align: right;\n",
              "    }\n",
              "\n",
              "    .dataframe thead th {\n",
              "        text-align: left;\n",
              "    }\n",
              "\n",
              "    .dataframe tbody tr th {\n",
              "        vertical-align: top;\n",
              "    }\n",
              "</style>\n",
              "<table border=\"1\" class=\"dataframe\">\n",
              "  <thead>\n",
              "    <tr style=\"text-align: right;\">\n",
              "      <th></th>\n",
              "      <th>_id</th>\n",
              "      <th>dept</th>\n",
              "      <th>name</th>\n",
              "    </tr>\n",
              "  </thead>\n",
              "  <tbody>\n",
              "    <tr>\n",
              "      <th>0</th>\n",
              "      <td>5cb251e12c6fe759b793a293</td>\n",
              "      <td>IT</td>\n",
              "      <td>Nitin</td>\n",
              "    </tr>\n",
              "    <tr>\n",
              "      <th>1</th>\n",
              "      <td>5cb251fe2c6fe759b793a294</td>\n",
              "      <td>HR</td>\n",
              "      <td>John</td>\n",
              "    </tr>\n",
              "    <tr>\n",
              "      <th>2</th>\n",
              "      <td>5cb2520e2c6fe759b793a295</td>\n",
              "      <td>Admin</td>\n",
              "      <td>Ronny</td>\n",
              "    </tr>\n",
              "  </tbody>\n",
              "</table>\n",
              "</div>"
            ],
            "text/plain": [
              "                        _id   dept   name\n",
              "0  5cb251e12c6fe759b793a293     IT  Nitin\n",
              "1  5cb251fe2c6fe759b793a294     HR   John\n",
              "2  5cb2520e2c6fe759b793a295  Admin  Ronny"
            ]
          },
          "metadata": {
            "tags": []
          },
          "execution_count": 26
        }
      ]
    },
    {
      "cell_type": "code",
      "metadata": {
        "id": "MwHaew1jV2uX",
        "colab_type": "code",
        "colab": {}
      },
      "source": [
        ""
      ],
      "execution_count": 0,
      "outputs": []
    },
    {
      "cell_type": "code",
      "metadata": {
        "id": "2ZTiBR_cV2ub",
        "colab_type": "code",
        "colab": {}
      },
      "source": [
        ""
      ],
      "execution_count": 0,
      "outputs": []
    },
    {
      "cell_type": "code",
      "metadata": {
        "id": "rCLfW_v7V2ue",
        "colab_type": "code",
        "colab": {}
      },
      "source": [
        ""
      ],
      "execution_count": 0,
      "outputs": []
    },
    {
      "cell_type": "code",
      "metadata": {
        "id": "ZfeU0ACjV2uk",
        "colab_type": "code",
        "colab": {}
      },
      "source": [
        ""
      ],
      "execution_count": 0,
      "outputs": []
    },
    {
      "cell_type": "code",
      "metadata": {
        "id": "T1OKmJ8PV2uq",
        "colab_type": "code",
        "colab": {}
      },
      "source": [
        ""
      ],
      "execution_count": 0,
      "outputs": []
    },
    {
      "cell_type": "code",
      "metadata": {
        "id": "AvtRk3fgV2uw",
        "colab_type": "code",
        "colab": {}
      },
      "source": [
        ""
      ],
      "execution_count": 0,
      "outputs": []
    }
  ]
}